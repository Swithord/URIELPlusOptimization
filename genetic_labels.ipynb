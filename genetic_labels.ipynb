{
 "cells": [
  {
   "cell_type": "code",
   "id": "initial_id",
   "metadata": {
    "collapsed": true,
    "ExecuteTime": {
     "end_time": "2025-05-19T14:16:58.110783Z",
     "start_time": "2025-05-19T14:16:50.077611Z"
    }
   },
   "source": [
    "from urielplus.urielplus import URIELPlus\n",
    "import pandas as pd\n",
    "u = URIELPlus()\n",
    "u.set_glottocodes()\n",
    "df = pd.DataFrame(u.get_phylogeny_data_array()[:, :, 0], index=u.get_phylogeny_languages_array(), columns=u.get_phylogeny_features_array())"
   ],
   "outputs": [
    {
     "name": "stderr",
     "output_type": "stream",
     "text": [
      "2025-05-19 22:16:57,708 - root - INFO - /Users/yorky/URIELPlus/.venv/lib/python3.11/site-packages/urielplus/database/family_features.npz is missing in \"database\". Copying from \"original_uriel\"...\n",
      "2025-05-19 22:16:57,904 - root - INFO - /Users/yorky/URIELPlus/.venv/lib/python3.11/site-packages/urielplus/database/features.npz is missing in \"database\". Copying from \"original_uriel\"...\n",
      "2025-05-19 22:16:57,984 - root - INFO - /Users/yorky/URIELPlus/.venv/lib/python3.11/site-packages/urielplus/database/geocoord_features.npz is missing in \"database\". Copying from \"original_uriel\"...\n",
      "2025-05-19 22:16:58,033 - root - INFO - Converting ISO 639-3 codes to Glottocodes....\n",
      "2025-05-19 22:16:58,108 - root - INFO - Conversion to Glottocodes complete.\n"
     ]
    }
   ],
   "execution_count": 1
  },
  {
   "metadata": {
    "ExecuteTime": {
     "end_time": "2025-05-19T14:17:19.700536Z",
     "start_time": "2025-05-19T14:17:19.622923Z"
    }
   },
   "cell_type": "code",
   "source": [
    "df = df[['F_Atlantic-Congo', 'F_Austronesian', 'F_Indo-European', 'F_Sino-Tibetan', 'F_Afro-Asiatic']]\n",
    "# filter out all rows with all zeros\n",
    "df = df.loc[(df != 0).any(axis=1)]\n",
    "df.sum(axis=0)"
   ],
   "id": "3d124b92e715195c",
   "outputs": [
    {
     "data": {
      "text/plain": [
       "F_Atlantic-Congo    1386.0\n",
       "F_Austronesian      1254.0\n",
       "F_Indo-European      572.0\n",
       "F_Sino-Tibetan       426.0\n",
       "F_Afro-Asiatic       358.0\n",
       "dtype: float32"
      ]
     },
     "execution_count": 2,
     "metadata": {},
     "output_type": "execute_result"
    }
   ],
   "execution_count": 2
  },
  {
   "metadata": {
    "ExecuteTime": {
     "end_time": "2025-05-19T14:17:22.066609Z",
     "start_time": "2025-05-19T14:17:22.061408Z"
    }
   },
   "cell_type": "code",
   "source": [
    "# change it to categorical (series)\n",
    "df = df.idxmax(axis=1)\n",
    "df = df.rename('family')\n",
    "df"
   ],
   "id": "eff804f1272faedc",
   "outputs": [
    {
     "data": {
      "text/plain": [
       "adze1240      F_Austronesian\n",
       "akan1250    F_Atlantic-Congo\n",
       "tosk1239     F_Indo-European\n",
       "amha1245      F_Afro-Asiatic\n",
       "ngas1240      F_Afro-Asiatic\n",
       "                  ...       \n",
       "sout1528     F_Indo-European\n",
       "nucl1276     F_Indo-European\n",
       "alba1267     F_Indo-European\n",
       "tuar1240      F_Afro-Asiatic\n",
       "zaza1246     F_Indo-European\n",
       "Name: family, Length: 3996, dtype: object"
      ]
     },
     "execution_count": 3,
     "metadata": {},
     "output_type": "execute_result"
    }
   ],
   "execution_count": 3
  },
  {
   "metadata": {
    "ExecuteTime": {
     "end_time": "2025-05-19T14:17:45.512465Z",
     "start_time": "2025-05-19T14:17:45.497441Z"
    }
   },
   "cell_type": "code",
   "source": [
    "# save to csv\n",
    "df.to_csv('./data/URIEL_Phylogeny_Labels.csv')"
   ],
   "id": "667fdfd1218b1949",
   "outputs": [],
   "execution_count": 5
  },
  {
   "metadata": {},
   "cell_type": "code",
   "outputs": [],
   "execution_count": null,
   "source": "",
   "id": "2301c8c6b7fe5de0"
  }
 ],
 "metadata": {
  "kernelspec": {
   "display_name": "Python 3",
   "language": "python",
   "name": "python3"
  },
  "language_info": {
   "codemirror_mode": {
    "name": "ipython",
    "version": 2
   },
   "file_extension": ".py",
   "mimetype": "text/x-python",
   "name": "python",
   "nbconvert_exporter": "python",
   "pygments_lexer": "ipython2",
   "version": "2.7.6"
  }
 },
 "nbformat": 4,
 "nbformat_minor": 5
}
