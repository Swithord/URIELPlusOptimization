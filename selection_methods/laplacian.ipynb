{
 "cells": [
  {
   "cell_type": "code",
   "id": "initial_id",
   "metadata": {
    "collapsed": true,
    "ExecuteTime": {
     "end_time": "2025-04-11T03:27:38.215841Z",
     "start_time": "2025-04-11T03:27:38.160446Z"
    }
   },
   "source": [
    "import numpy as np\n",
    "import pandas as pd\n",
    "from scipy.spatial.distance import pdist, squareform\n",
    "\n",
    "\n",
    "def cal_lap_score(features, D, L):\n",
    "    features_ = features - np.sum((features @ D) / np.sum(D))\n",
    "    L_score = (features_ @ L @ features_) / (features_ @ D @ features_)\n",
    "    return L_score\n",
    "\n",
    "\n",
    "def get_k_nearest(dist, k, sample_index):\n",
    "    return sorted(\n",
    "        range(len(dist)),\n",
    "        key=lambda i: dist[i] if i != sample_index else np.inf\n",
    "    )[:k] + [sample_index]\n",
    "\n",
    "\n",
    "def laplacian_score(df_arr, label=None, **kwargs):\n",
    "    kwargs.setdefault(\"k_nearest\", 5)\n",
    "    distances = pdist(df_arr, metric='euclidean')\n",
    "    dist_matrix = squareform(distances)\n",
    "    edge_sparse_matrix = pd.DataFrame(\n",
    "        np.zeros((df_arr.shape[0], df_arr.shape[0])),\n",
    "        dtype=int\n",
    "    )\n",
    "    if label is None:\n",
    "        for row_id, row in enumerate(dist_matrix):\n",
    "            k_nearest_id = get_k_nearest(row, kwargs[\"k_nearest\"], row_id)\n",
    "            edge_sparse_matrix.iloc[k_nearest_id, k_nearest_id] = 1\n",
    "    else:\n",
    "        label = np.array(label)\n",
    "        unique_label = np.unique(label)\n",
    "        for i in unique_label:\n",
    "            group_index = np.where(label == i)[0]\n",
    "            edge_sparse_matrix.iloc[group_index, group_index] = 1\n",
    "    S = dist_matrix * edge_sparse_matrix\n",
    "    del dist_matrix, edge_sparse_matrix\n",
    "    D = np.diag(S.sum(axis=1))\n",
    "    L = D - S\n",
    "    del S\n",
    "    features_lap_score = np.apply_along_axis(\n",
    "        func1d=lambda f: cal_lap_score(f, D, L), axis=0, arr=df_arr\n",
    "    )\n",
    "    return features_lap_score"
   ],
   "outputs": [],
   "execution_count": 7
  },
  {
   "metadata": {
    "ExecuteTime": {
     "end_time": "2025-04-11T03:28:54.930919Z",
     "start_time": "2025-04-11T03:27:40.748141Z"
    }
   },
   "cell_type": "code",
   "source": [
    "file_path = '../data/URIELPlus_Union.csv'\n",
    "\n",
    "df = pd.read_csv(file_path, index_col=0)\n",
    "laplacian_scores = laplacian_score(df)"
   ],
   "id": "64bdf51494f57840",
   "outputs": [],
   "execution_count": 8
  },
  {
   "metadata": {
    "ExecuteTime": {
     "end_time": "2025-04-11T03:29:04.264234Z",
     "start_time": "2025-04-11T03:29:00.611049Z"
    }
   },
   "cell_type": "code",
   "source": [
    "for n_features in range(500, 701, 100):\n",
    "    feature_indices = np.argsort(laplacian_scores)[::-1][:n_features]\n",
    "    filtered_data = df.iloc[:, feature_indices]\n",
    "    # save to csv\n",
    "    filtered_data.to_csv(f'../selection_result/base_laplacian_{n_features}.csv')"
   ],
   "id": "24330a98acb7d7d8",
   "outputs": [],
   "execution_count": 9
  }
 ],
 "metadata": {
  "kernelspec": {
   "display_name": "Python 3",
   "language": "python",
   "name": "python3"
  },
  "language_info": {
   "codemirror_mode": {
    "name": "ipython",
    "version": 2
   },
   "file_extension": ".py",
   "mimetype": "text/x-python",
   "name": "python",
   "nbconvert_exporter": "python",
   "pygments_lexer": "ipython2",
   "version": "2.7.6"
  }
 },
 "nbformat": 4,
 "nbformat_minor": 5
}
