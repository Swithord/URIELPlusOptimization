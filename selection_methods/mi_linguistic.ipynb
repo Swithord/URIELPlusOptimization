{
 "cells": [
  {
   "cell_type": "code",
   "id": "initial_id",
   "metadata": {
    "collapsed": true,
    "ExecuteTime": {
     "end_time": "2025-04-18T04:10:15.165444Z",
     "start_time": "2025-04-18T04:10:14.832981Z"
    }
   },
   "source": [
    "import numpy as np\n",
    "import pandas as pd\n",
    "from sklearn.feature_selection import mutual_info_classif\n",
    "from sklearn.preprocessing import LabelEncoder\n",
    "from sklearn.metrics import matthews_corrcoef\n",
    "\n",
    "genetic_df = pd.read_csv('../data/URIEL_Phylogeny_Labels.csv', index_col=0)\n",
    "df = pd.read_csv('../data/URIELPlus_Union.csv', index_col=0)\n",
    "subset_df = df[df.index.isin(genetic_df.index)]"
   ],
   "outputs": [],
   "execution_count": 19
  },
  {
   "metadata": {
    "ExecuteTime": {
     "end_time": "2025-04-18T04:17:49.026433Z",
     "start_time": "2025-04-18T04:10:54.969496Z"
    }
   },
   "cell_type": "code",
   "source": [
    "y_encoded = LabelEncoder().fit_transform(genetic_df['family'].to_numpy())\n",
    "mi = mutual_info_classif(subset_df, y_encoded, discrete_features=True)\n",
    "phi_matrix = np.ones((800, 800))\n",
    "for i in range(800):\n",
    "    for j in range(800):\n",
    "        if i != j:\n",
    "            phi_matrix[i, j] = matthews_corrcoef(subset_df.iloc[:,i], subset_df.iloc[:,j])"
   ],
   "id": "15611c63064bd8d1",
   "outputs": [],
   "execution_count": 23
  },
  {
   "metadata": {
    "ExecuteTime": {
     "end_time": "2025-04-18T04:40:08.376332Z",
     "start_time": "2025-04-18T04:40:02.541864Z"
    }
   },
   "cell_type": "code",
   "source": [
    "selected_idx = np.argmax(mi)\n",
    "remaining = np.arange(800)\n",
    "remaining = np.delete(remaining, np.argwhere(remaining == selected_idx))\n",
    "curr_feat_phi = phi_matrix[remaining,selected_idx]\n",
    "scores = mi[remaining] / curr_feat_phi\n",
    "new_idx = remaining[np.argmax(scores)]\n",
    "remaining = np.delete(remaining, np.argwhere(remaining == new_idx))\n",
    "selected_idx = np.array([selected_idx, new_idx])\n",
    "for i in range(3, 701):\n",
    "    curr_feat_phi = phi_matrix[remaining]\n",
    "    curr_feat_phi = curr_feat_phi[:, selected_idx].mean(axis=1)\n",
    "    scores = mi[remaining] / curr_feat_phi\n",
    "    new_idx = remaining[np.argmax(scores)]\n",
    "    remaining = np.delete(remaining, np.argwhere(remaining == new_idx))\n",
    "    selected_idx = np.append(selected_idx, new_idx)\n",
    "    if i % 100 == 0:\n",
    "        df.iloc[:,selected_idx].to_csv(f'../selection_result/base_mi_{i}.csv')\n",
    "        # print(i, selected_idx)\n",
    "    "
   ],
   "id": "a5a223e8b342b4e1",
   "outputs": [],
   "execution_count": 59
  }
 ],
 "metadata": {
  "kernelspec": {
   "display_name": "Python 3",
   "language": "python",
   "name": "python3"
  },
  "language_info": {
   "codemirror_mode": {
    "name": "ipython",
    "version": 2
   },
   "file_extension": ".py",
   "mimetype": "text/x-python",
   "name": "python",
   "nbconvert_exporter": "python",
   "pygments_lexer": "ipython2",
   "version": "2.7.6"
  }
 },
 "nbformat": 4,
 "nbformat_minor": 5
}
