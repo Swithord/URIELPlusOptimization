{
 "cells": [
  {
   "cell_type": "code",
   "id": "initial_id",
   "metadata": {
    "collapsed": true,
    "ExecuteTime": {
     "end_time": "2025-04-11T03:27:02.707347Z",
     "start_time": "2025-04-11T03:27:02.263429Z"
    }
   },
   "source": [
    "from sklearn.feature_selection import VarianceThreshold\n",
    "import pandas as pd\n",
    "import numpy as np\n",
    "\n",
    "file_path = '../data/URIELPlus_Union.csv'\n",
    "\n",
    "df = pd.read_csv(file_path, index_col=0)\n",
    "selector = VarianceThreshold(threshold=0.05)\n",
    "result = selector.fit_transform(df)\n"
   ],
   "outputs": [],
   "execution_count": 3
  },
  {
   "metadata": {
    "ExecuteTime": {
     "end_time": "2025-04-11T03:27:27.647252Z",
     "start_time": "2025-04-11T03:27:23.791403Z"
    }
   },
   "cell_type": "code",
   "source": [
    "variances = np.abs(selector.variances_)\n",
    "for n_features in range(500, 701, 100):\n",
    "    feature_indices = np.argsort(variances)[::-1][:n_features]\n",
    "    filtered_data = df.iloc[:, feature_indices]\n",
    "    # save to csv\n",
    "    filtered_data.to_csv(f'../selection_result/base_variance_{n_features}.csv')"
   ],
   "id": "3790d2722b59c8b",
   "outputs": [],
   "execution_count": 5
  }
 ],
 "metadata": {
  "kernelspec": {
   "display_name": "Python 3",
   "language": "python",
   "name": "python3"
  },
  "language_info": {
   "codemirror_mode": {
    "name": "ipython",
    "version": 2
   },
   "file_extension": ".py",
   "mimetype": "text/x-python",
   "name": "python",
   "nbconvert_exporter": "python",
   "pygments_lexer": "ipython2",
   "version": "2.7.6"
  }
 },
 "nbformat": 4,
 "nbformat_minor": 5
}
