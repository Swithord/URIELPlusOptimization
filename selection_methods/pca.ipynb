{
 "cells": [
  {
   "cell_type": "code",
   "id": "initial_id",
   "metadata": {
    "collapsed": true,
    "ExecuteTime": {
     "end_time": "2025-05-15T04:31:08.487848Z",
     "start_time": "2025-05-15T04:31:06.370284Z"
    }
   },
   "source": [
    "from sklearn.decomposition import PCA, SparsePCA\n",
    "import pandas as pd\n",
    "import numpy as np\n",
    "\n",
    "file_path = '../data/URIELPlus_Union.csv'\n",
    "explained_variance = 0.95\n",
    "trimming_threshold = 0.05\n",
    "\n",
    "df = pd.read_csv(file_path, index_col=0)\n",
    "pca = PCA(n_components=explained_variance)\n",
    "result = pca.fit_transform(df)\n",
    "result_df = pd.DataFrame(result, index=df.index)\n",
    "print(f'Number of PCs: {pca.n_components_}')"
   ],
   "outputs": [
    {
     "name": "stdout",
     "output_type": "stream",
     "text": [
      "Number of PCs: 125\n"
     ]
    }
   ],
   "execution_count": 1
  },
  {
   "metadata": {
    "ExecuteTime": {
     "end_time": "2025-04-11T02:11:52.967541Z",
     "start_time": "2025-04-11T02:11:48.967235Z"
    }
   },
   "cell_type": "code",
   "source": [
    "max_explained_variance = np.max(np.abs(pca.components_), axis=0)\n",
    "for n_features in range(100, 701, 100):\n",
    "    feature_indices = np.argsort(max_explained_variance)[::-1][:n_features]\n",
    "    filtered_data = df.iloc[:, feature_indices]\n",
    "    # save to csv\n",
    "    filtered_data.to_csv(f'../selection_result/base_PCA_importance_{n_features}.csv')"
   ],
   "id": "bf626e0c72d5f29",
   "outputs": [],
   "execution_count": 4
  }
 ],
 "metadata": {
  "kernelspec": {
   "display_name": "Python 3",
   "language": "python",
   "name": "python3"
  },
  "language_info": {
   "codemirror_mode": {
    "name": "ipython",
    "version": 2
   },
   "file_extension": ".py",
   "mimetype": "text/x-python",
   "name": "python",
   "nbconvert_exporter": "python",
   "pygments_lexer": "ipython2",
   "version": "2.7.6"
  }
 },
 "nbformat": 4,
 "nbformat_minor": 5
}
